{
 "cells": [
  {
   "cell_type": "markdown",
   "metadata": {},
   "source": []
  },
  {
   "cell_type": "markdown",
   "metadata": {},
   "source": [
    "As always, our import statements:"
   ]
  },
  {
   "cell_type": "code",
   "execution_count": 41,
   "metadata": {},
   "outputs": [],
   "source": [
    "from numpy import zeros, array, einsum, float32, sum, zeros_like, subtract\n",
    "from numpy.lib.stride_tricks import as_strided\n",
    "from matplotlib import pyplot as plt"
   ]
  },
  {
   "cell_type": "markdown",
   "metadata": {},
   "source": [
    "The solution to this PDE\n",
    "\n",
    "$$\\frac{{\\partial ^2 u}}{{\\partial t^2 }} = {{c^2 \\Delta u}}$$\n",
    "\n",
    "otherwise known as the wave equation is given by the following discrete set of equations:"
   ]
  },
  {
   "cell_type": "markdown",
   "metadata": {},
   "source": [
    "$$\n",
    "\\begin{align}\n",
    " u_0(x,y) &= C\\\\\n",
    " u_{n+1}(x,y) &= u_n(x,y) + u'_n(x,y) \\delta t\\\\\n",
    " u'_{n+1}(x,y) &= u'_n(x,y) + (c^2 \\Delta u ) \\delta t\\\\\n",
    "\\end{align}\n",
    "$$"
   ]
  },
  {
   "cell_type": "markdown",
   "metadata": {},
   "source": [
    "Here, since the equation is 2-D dimensional, it can be broken into matrix operations as a numerical solution.  As such, the following code are initial conditions taken from the [CompPhys](https://github.com/ubsuny/CompPhys/blob/PDEupdate/PDEs/ConvolutionPDE.ipynb) directory:"
   ]
  },
  {
   "cell_type": "code",
   "execution_count": 21,
   "metadata": {},
   "outputs": [],
   "source": [
    "# Image size\n",
    "N = 51\n",
    "n = 50\n",
    "\n",
    "# u and u'\n",
    "u_init = zeros([N, N], dtype = float32)\n",
    "up_init = zeros([N, N], dtype = float32)\n",
    "\n",
    "# Initial condition on u\n",
    "u_init[N//2, N//2] = 10"
   ]
  },
  {
   "cell_type": "markdown",
   "metadata": {},
   "source": [
    "We can also introduce a Laplacian $L$, which acts as a convolution filter:"
   ]
  },
  {
   "cell_type": "code",
   "execution_count": 7,
   "metadata": {},
   "outputs": [],
   "source": [
    "L = array([[0., 1., 0.], [1., -4., 1.], [0., 1., 0.]])"
   ]
  },
  {
   "cell_type": "markdown",
   "metadata": {},
   "source": [
    "**(A.)** _solution by loops_"
   ]
  },
  {
   "cell_type": "markdown",
   "metadata": {},
   "source": [
    "Then, we can create a function out of the numerical solution such that it can be timed.  Since this method is iterative, as defined on $n$, we must therefore pass in some max iteration.  Note that this code is also taken from the CompPhys directory, but modified to more closely suit our purpose:"
   ]
  },
  {
   "cell_type": "code",
   "execution_count": 17,
   "metadata": {},
   "outputs": [],
   "source": [
    "def convolution_solution(u, up, L, n):\n",
    "\n",
    "    U = u.copy()\n",
    "    Up = up.copy()\n",
    "    \n",
    "    Un = zeros_like(U)\n",
    "    \n",
    "    for k in range(0, n):\n",
    "        for i in range(1, U.shape[0] - 2):\n",
    "            for j in range(1, U.shape[1] - 2):\n",
    "                \n",
    "                Un[i + 1, j + 1] = sum(L*U[i:i + 3, j:j + 3])/8.\n",
    "                \n",
    "        U  = U + Up\n",
    "        Up = Up + 1/4 * Un\n",
    "        \n",
    "    return U"
   ]
  },
  {
   "cell_type": "markdown",
   "metadata": {},
   "source": [
    "So, what does this look like for our initial conditions? "
   ]
  },
  {
   "cell_type": "code",
   "execution_count": 33,
   "metadata": {},
   "outputs": [],
   "source": [
    "sln = convolution_solution(u_init, up_init, L, n)"
   ]
  },
  {
   "cell_type": "code",
   "execution_count": 61,
   "metadata": {},
   "outputs": [
    {
     "data": {
      "image/png": "[encoded data removed]",
      "text/plain": [
       "<Figure size 432x288 with 2 Axes>"
      ]
     },
     "metadata": {
      "needs_background": "light"
     },
     "output_type": "display_data"
    }
   ],
   "source": [
    "fig, ax = plt.subplots(1, 1)\n",
    "\n",
    "I = ax.imshow(sln, 'RdBu')\n",
    "\n",
    "ax.set_ylabel('$y$', fontsize = 14)\n",
    "ax.set_xlabel('$x$', fontsize = 14)\n",
    "\n",
    "cbar = fig.colorbar(I, label = '$u(x, y)$')\n",
    "cbar.ax.tick_params(labelsize = 14)\n",
    "\n",
    "fig.tight_layout();"
   ]
  },
  {
   "cell_type": "markdown",
   "metadata": {},
   "source": [
    "It's great that we can solve this - that is perfectly fine.  However, how long does this actually take? Since the initial conditions are precisely the same each time, we can opt to only do different runs, not iterations."
   ]
  },
  {
   "cell_type": "code",
   "execution_count": 34,
   "metadata": {},
   "outputs": [
    {
     "name": "stdout",
     "output_type": "stream",
     "text": [
      "769 ms ± 19.1 ms per loop (mean ± std. dev. of 10 runs, 1 loop each)\n"
     ]
    }
   ],
   "source": [
    "%timeit -r 10 convolution_solution(u_init, up_init, L, n)"
   ]
  },
  {
   "cell_type": "markdown",
   "metadata": {},
   "source": [
    "As to be expected with Python loops...but we can do better..."
   ]
  },
  {
   "cell_type": "markdown",
   "metadata": {},
   "source": [
    "**(B.)** _vectorized solution_"
   ]
  },
  {
   "cell_type": "code",
   "execution_count": 77,
   "metadata": {},
   "outputs": [],
   "source": [
    "import scipy"
   ]
  },
  {
   "cell_type": "code",
   "execution_count": 79,
   "metadata": {},
   "outputs": [],
   "source": [
    "def vectorized_solution(u, up, L, n):\n",
    "\n",
    "    U = u.copy()\n",
    "    Up = up.copy()\n",
    "    \n",
    "    Un = zeros_like(U)\n",
    "    \n",
    "    def conv_u(U, L):\n",
    "        strides_shape = tuple(subtract(U.shape, L.shape) + 1) + L.shape\n",
    "        strides = U.strides + U.strides\n",
    "        matrices = as_strided(U, strides_shape, strides)\n",
    "        m = einsum('ij, klij->kl', L, matrices)\n",
    "        return m\n",
    "    \n",
    "    for i in range(n):\n",
    "        Un[1:-1, 1:-1] = conv_u(U, L)\n",
    "        U  = U + Up\n",
    "        Up = Up + 1./4. * Un\n",
    "\n",
    "    return U"
   ]
  },
  {
   "cell_type": "code",
   "execution_count": 80,
   "metadata": {},
   "outputs": [
    {
     "name": "stdout",
     "output_type": "stream",
     "text": [
      "6.54 ms ± 308 µs per loop (mean ± std. dev. of 10 runs, 100 loops each)\n"
     ]
    }
   ],
   "source": [
    "%timeit -r 10 vectorized_solution(u_init, up_init, L, n)"
   ]
  },
  {
   "cell_type": "code",
   "execution_count": 85,
   "metadata": {},
   "outputs": [
    {
     "data": {
      "text/plain": [
       "<matplotlib.image.AxesImage at 0x260d5c77bb0>"
      ]
     },
     "execution_count": 85,
     "metadata": {},
     "output_type": "execute_result"
    },
    {
     "data": {
      "image/png": "[encoded data removed]",
      "text/plain": [
       "<Figure size 432x288 with 1 Axes>"
      ]
     },
     "metadata": {
      "needs_background": "light"
     },
     "output_type": "display_data"
    }
   ],
   "source": [
    "plt.imshow(vectorized_solution(u_init, up_init, L, n), 'RdBu')"
   ]
  },
  {
   "cell_type": "code",
   "execution_count": null,
   "metadata": {},
   "outputs": [],
   "source": [
    "# This isn't right, so time to try again."
   ]
  }
 ],
 "metadata": {
  "kernelspec": {
   "display_name": "Python 3",
   "language": "python",
   "name": "python3"
  },
  "language_info": {
   "codemirror_mode": {
    "name": "ipython",
    "version": 3
   },
   "file_extension": ".py",
   "mimetype": "text/x-python",
   "name": "python",
   "nbconvert_exporter": "python",
   "pygments_lexer": "ipython3",
   "version": "3.8.3"
  }
 },
 "nbformat": 4,
 "nbformat_minor": 4
}
