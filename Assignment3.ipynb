{
 "cells": [
  {
   "cell_type": "markdown",
   "metadata": {},
   "source": [
    "## Jeremy Kazimer\n",
    "#### 5018-1732\n",
    "#### Assignment #3"
   ]
  },
  {
   "cell_type": "markdown",
   "metadata": {},
   "source": [
    "---"
   ]
  },
  {
   "cell_type": "markdown",
   "metadata": {},
   "source": [
    "As always, our import statements:"
   ]
  },
  {
   "cell_type": "code",
   "execution_count": 1,
   "metadata": {},
   "outputs": [],
   "source": [
    "from numpy import zeros, array, einsum, float32, sum, zeros_like, subtract\n",
    "from numpy.lib.stride_tricks import as_strided\n",
    "from matplotlib import pyplot as plt"
   ]
  },
  {
   "cell_type": "markdown",
   "metadata": {},
   "source": [
    "The solution to this PDE\n",
    "\n",
    "$$\\frac{{\\partial ^2 u}}{{\\partial t^2 }} = {{c^2 \\Delta u}}$$\n",
    "\n",
    "otherwise known as the wave equation is given by the following discrete set of equations:"
   ]
  },
  {
   "cell_type": "markdown",
   "metadata": {},
   "source": [
    "$$\n",
    "\\begin{align}\n",
    " u_0(x,y) &= C\\\\\n",
    " u_{n+1}(x,y) &= u_n(x,y) + u'_n(x,y) \\delta t\\\\\n",
    " u'_{n+1}(x,y) &= u'_n(x,y) + (c^2 \\Delta u ) \\delta t\\\\\n",
    "\\end{align}\n",
    "$$"
   ]
  },
  {
   "cell_type": "markdown",
   "metadata": {},
   "source": [
    "Here, since the equation is 2-D dimensional, it can be broken into matrix operations as a numerical solution.  As such, the following code are initial conditions taken from the [CompPhys](https://github.com/ubsuny/CompPhys/blob/PDEupdate/PDEs/ConvolutionPDE.ipynb) directory:"
   ]
  },
  {
   "cell_type": "code",
   "execution_count": 2,
   "metadata": {},
   "outputs": [],
   "source": [
    "# Image size\n",
    "N = 51\n",
    "n = 50\n",
    "\n",
    "# u and u'\n",
    "u_init = zeros([N, N], dtype = float32)\n",
    "up_init = zeros([N, N], dtype = float32)\n",
    "\n",
    "# Initial condition on u\n",
    "u_init[N//2, N//2] = 10"
   ]
  },
  {
   "cell_type": "markdown",
   "metadata": {},
   "source": [
    "We can also introduce a Laplacian $L$, which acts as a convolution filter:"
   ]
  },
  {
   "cell_type": "code",
   "execution_count": 3,
   "metadata": {},
   "outputs": [],
   "source": [
    "L = array([[0., 1., 0.], [1., -4., 1.], [0., 1., 0.]])"
   ]
  },
  {
   "cell_type": "markdown",
   "metadata": {},
   "source": [
    "#### Problem #1:"
   ]
  },
  {
   "cell_type": "markdown",
   "metadata": {},
   "source": [
    "**(A.)** _solution by loops_"
   ]
  },
  {
   "cell_type": "markdown",
   "metadata": {},
   "source": [
    "Then, we can create a function out of the numerical solution such that it can be timed.  Since this method is iterative, as defined on $n$, we must therefore pass in some max iteration.  Note that this code is also taken from the CompPhys directory, but modified to more closely suit our purpose:"
   ]
  },
  {
   "cell_type": "code",
   "execution_count": 4,
   "metadata": {},
   "outputs": [],
   "source": [
    "def convolution_solution(u, up, L, n):\n",
    "\n",
    "    U = u.copy()\n",
    "    Up = up.copy()\n",
    "    \n",
    "    Un = zeros_like(U)\n",
    "    \n",
    "    for k in range(0, n):\n",
    "        for i in range(1, U.shape[0] - 2):\n",
    "            for j in range(1, U.shape[1] - 2):\n",
    "                \n",
    "                Un[i + 1, j + 1] = sum(L*U[i:i + 3, j:j + 3])/8.\n",
    "                \n",
    "        U  = U + Up\n",
    "        Up = Up + 1/4 * Un\n",
    "        \n",
    "    return U"
   ]
  },
  {
   "cell_type": "markdown",
   "metadata": {},
   "source": [
    "So, what does this look like for our initial conditions? "
   ]
  },
  {
   "cell_type": "code",
   "execution_count": 5,
   "metadata": {},
   "outputs": [],
   "source": [
    "sln = convolution_solution(u_init, up_init, L, n)"
   ]
  },
  {
   "cell_type": "code",
   "execution_count": 6,
   "metadata": {},
   "outputs": [
    {
     "data": {
      "image/png": "[encoded data removed]",
      "text/plain": [
       "<Figure size 432x288 with 2 Axes>"
      ]
     },
     "metadata": {
      "needs_background": "light"
     },
     "output_type": "display_data"
    }
   ],
   "source": [
    "fig, ax = plt.subplots(1, 1)\n",
    "\n",
    "I = ax.imshow(sln, 'RdBu')\n",
    "\n",
    "ax.set_ylabel('$y$', fontsize = 14)\n",
    "ax.set_xlabel('$x$', fontsize = 14)\n",
    "\n",
    "cbar = fig.colorbar(I, label = '$u(x, y)$')\n",
    "cbar.ax.tick_params(labelsize = 14)\n",
    "\n",
    "fig.tight_layout();"
   ]
  },
  {
   "cell_type": "markdown",
   "metadata": {},
   "source": [
    "It's great that we can solve this - that is perfectly fine.  However, how long does this actually take? Since the initial conditions are precisely the same each time, we can opt to only do different runs, not iterations."
   ]
  },
  {
   "cell_type": "code",
   "execution_count": 7,
   "metadata": {},
   "outputs": [
    {
     "name": "stdout",
     "output_type": "stream",
     "text": [
      "54.2 s ± 485 ms per loop (mean ± std. dev. of 10 runs, 1 loop each)\n"
     ]
    }
   ],
   "source": [
    "%timeit -r 10 convolution_solution(u_init, up_init, L, n)"
   ]
  },
  {
   "cell_type": "markdown",
   "metadata": {},
   "source": [
    "As to be expected with Python loops...but we can do better..."
   ]
  },
  {
   "cell_type": "markdown",
   "metadata": {},
   "source": [
    "**(B.)** _vectorized solution_"
   ]
  },
  {
   "cell_type": "markdown",
   "metadata": {},
   "source": [
    "So a few things really must be noted here.  Mostly that I didn't entirely come up with the solution myself.  Rather, I pieced together different bits and pieces from StackOverflow because I couldn't find a precise implementation other than `scipy`, but that felt very uneducational.  As such, the StackOverflow resources are as follows:\n",
    "\n",
    "   * https://machinelearningmastery.com/padding-and-stride-for-convolutional-neural-networks/\n",
    "   * https://stackoverflow.com/questions/48097941/strided-convolution-of-2d-in-numpy/49062204\n",
    "   * https://jessicastringham.net/2018/01/01/einsum/  \n",
    "   * https://www.w3schools.com/python/gloss_python_join_tuple.asp\n",
    "   * https://www.tensorflow.org/api_docs/python/tf/einsum\n",
    "   * https://stackoverflow.com/questions/26089893/understanding-numpys-einsum\n"
   ]
  },
  {
   "cell_type": "markdown",
   "metadata": {},
   "source": [
    "There is probably a more clean solution, but this is the one I came up with after piecing everything together:"
   ]
  },
  {
   "cell_type": "code",
   "execution_count": 17,
   "metadata": {},
   "outputs": [],
   "source": [
    "def vectorized_solution(u, up, L, n):\n",
    "    \n",
    "    # Everything from the old function, including parameters.\n",
    "    # These won't change because we still need to do the same\n",
    "    # operations on them.\n",
    "    U = u.copy()\n",
    "    Up = up.copy()\n",
    "    Un = zeros_like(U)\n",
    "    \n",
    "    # This is the new vectorized function.\n",
    "    def conv_u(U, L):\n",
    "        \n",
    "        # What is 'shape'? 'shape' is a four-element tuple\n",
    "        # containing the size of U (that is, the initial aray)\n",
    "        # and L.  This tells us what shapes we're starting from and convolving with.\n",
    "        # We subtract 2 so that the edges are left alone.\n",
    "        shape = tuple(subtract(U.shape, 2))\n",
    "        \n",
    "        # This appends (3, 3)\n",
    "        shape += L.shape\n",
    "        \n",
    "        # What is a stride? For a 2-d matrix, it takes the \n",
    "        # size of the 2nd axis and multiplies by 4, for 4 bits.\n",
    "        # We need this for the 'as strided' function so that\n",
    "        # it produces all possible multiplications.\n",
    "        # We append U.strides to itself because\n",
    "        # the shapes need to be consistent.\n",
    "        strides = U.strides + U.strides\n",
    "        \n",
    "        # as_strided takes in U and two shapes such that\n",
    "        # it produces all possible windows\n",
    "        # based on the size of shape.  For our\n",
    "        # data, this'll return (48, 48, 3, 3).\n",
    "        all_combos = as_strided(U, shape, strides)\n",
    "        \n",
    "        # einsum is the 'tensor contraction over specified indices and outer product' (TensorFlow).\n",
    "        # this one is a bit hard to explain, but it does matrix multiplication according to the dimensions\n",
    "        # you give it.  So, 'xy' correspond to L's shape, 'uvxy' corresponds to 'all_combos''s shape.\n",
    "        # So, this is (3, 3) and (48, 48, 3, 3).  Since 'xy' is repeated we're telling them that these\n",
    "        # dimensions match and that we should do something with that so that it matches the dimensions of \n",
    "        # 'uv'.  I _think_ in this case it's saying multiply along 'xy' of both matrices and then sum\n",
    "        # such that it has the dimensions of uv.  \n",
    "        \n",
    "        # This is the same as:\n",
    "        #(L[np.newaxis, np.newaxis, :,:]*all_combos).sum(axis = 2).sum(axis = 2)\n",
    "        # But this seemed like a terrible solution so I googled around a bit and\n",
    "        # found einsum.  It does the same thing but in less code.\n",
    "        conv = einsum('xy, uvxy -> uv', L, all_combos)\n",
    "        \n",
    "        return conv\n",
    "    \n",
    "    # Then we iterate over the time space.\n",
    "    for _ in range(n):\n",
    "        \n",
    "        # Same as before, but we exclude the edges.\n",
    "        # We divide by 8 just as we do in the other\n",
    "        # solution.\n",
    "        \n",
    "        Un[1:-1, 1:-1] = conv_u(U, L)/8\n",
    "        U  = U + Up\n",
    "        Up = Up + 1./4. * Un\n",
    "\n",
    "    return U"
   ]
  },
  {
   "cell_type": "markdown",
   "metadata": {},
   "source": [
    "And, of course, we can time it with the same conditions..."
   ]
  },
  {
   "cell_type": "code",
   "execution_count": 10,
   "metadata": {},
   "outputs": [
    {
     "name": "stdout",
     "output_type": "stream",
     "text": [
      "218 ms ± 2.93 ms per loop (mean ± std. dev. of 10 runs, 1 loop each)\n"
     ]
    }
   ],
   "source": [
    "%timeit -r 10 vectorized_solution(u_init, up_init, L, n)"
   ]
  },
  {
   "cell_type": "code",
   "execution_count": 19,
   "metadata": {},
   "outputs": [
    {
     "name": "stdout",
     "output_type": "stream",
     "text": [
      "vectorized code is 248.62 times faster!\n"
     ]
    }
   ],
   "source": [
    "print('vectorized code is {:.2f} times faster!'.format(54.2/(218/1000)))"
   ]
  },
  {
   "cell_type": "markdown",
   "metadata": {},
   "source": [
    "Absolutely incredible! We can plot the image as well, to show that it's the same."
   ]
  },
  {
   "cell_type": "code",
   "execution_count": 20,
   "metadata": {},
   "outputs": [],
   "source": [
    "vec_sln = vectorized_solution(u_init, up_init, L, n)"
   ]
  },
  {
   "cell_type": "code",
   "execution_count": 21,
   "metadata": {},
   "outputs": [
    {
     "data": {
      "image/png": "[encoded data removed]",
      "text/plain": [
       "<Figure size 432x288 with 2 Axes>"
      ]
     },
     "metadata": {
      "needs_background": "light"
     },
     "output_type": "display_data"
    }
   ],
   "source": [
    "fig, ax = plt.subplots(1, 1)\n",
    "\n",
    "I = ax.imshow(vec_sln, 'RdBu')\n",
    "\n",
    "ax.set_ylabel('$y$', fontsize = 14)\n",
    "ax.set_xlabel('$x$', fontsize = 14)\n",
    "\n",
    "cbar = fig.colorbar(I, label = '$u(x, y)$')\n",
    "cbar.ax.tick_params(labelsize = 14)\n",
    "\n",
    "fig.tight_layout();"
   ]
  },
  {
   "cell_type": "markdown",
   "metadata": {},
   "source": [
    "I don't see why anyone would make the preference for loops.  However, I don't think my code is exactly adjusted such that it can handle any $u$.  If I could make one change that would be it! Otherwise, the speed-up is really cool and not quite what I was anticipating.  I thought maybe 20 times faster at most, but this is game-changing for the Pi Zero."
   ]
  },
  {
   "cell_type": "markdown",
   "metadata": {},
   "source": [
    "#### Problem #2:"
   ]
  },
  {
   "cell_type": "markdown",
   "metadata": {},
   "source": [
    "Unfortunately, I don't have any numerical results to show.  Really, after seeing the speed-up from Problem 1b, I'm convinced that this is probably the fastest it'll get without coming short of damaging my device.  This is not to say that I didn't do any research at all.  I did, and a few hours worth.  \n",
    "\n",
    "The main thing I learned is that, at this point, nothing supports `armv6` and `armv6l` for computational purposes.  I learned this because I wanted to install a Docker image such that I could try out Tensorflow Lite, but it only supported `armv7` and forward.  Regardless, the way that Tensorflow described Lite, and several others did, is that it was a computationally effective and inexpensive alternative to Tensorflow.  In my mind, this meant to me that it had all the basic functionality, such as matrix multiplication.  But it didn't.  We'll get there!  \n",
    "\n",
    "So, I first tried to install it natively.  I came into no huge errors, but it did give me warnings that it needed 16 bits (bytes?) to allocate for these functions.  The Pi Zero W only has 8.  So, I thought maybe that I had the wrong installation.  Thus, I tried the `armv6l` specific version (this was for `armv6` before) and it gave me the exact same warnings.  I eventually installed Tensorflow on my Pi Zero by creating a virtual environment and installing it there.  I must say that I was not happy when I found out Lite has only about 6 functions, for optimizing models.  While there, I also tested run-times for Tensorflow versus Numpy and found that Tensorflow was upwards of 10-15 times slower than Numpy, on all operations.  \n",
    "\n",
    "At this point, my main path was exhausted.  I had looked into videocore before and in general I understand what they're doing there from my time in CSE 250 (Data Structures) and CSE 305 (Programming Languages), but the warning that they constantly gave is that incorrectly allocating memory can severely damage or break the device.  Although Pi Zero's are inexpensive, this is something I couldn't afford to do time-wise.  As such, this option was already exhausted because the risk analysis told me that the risk was too high.  With that, different searches kept bringing me back to videocore or telling me to get a different Pi model.  So, at this point, it seems that there is no solid hardware acceleration that can be done without the user going in and modifying things themselves.  \n",
    "\n",
    "As a result, I've opted to not attempt hardware acceleration via the only reasonable option, videocore, because even then the developers warn that it's rather unsafe for people inexperienced with memory allocation.  Although I had taken those two CSE courses, they're certainly not enough to get me going for this assignment.  \n",
    "\n",
    "However, I know that this wasn't the purpose of the assignment, but I am confident in the speed-up from Problem 1b.  It feels like the happy ending to an unhappy situation with hardware acceleration.  Even though I am not directly modifying the hardware, this seems like the best route short of doing that.  Really, at the very least Problem 2 was great in showing me the true limitations of the Pi Zero.  Of course, anyone can reason that space is a huge limiting factor, but slowly learning that nothing is supported, that its speed has a cap, is probably the most education I've had about hardware this entire semester, so far.  So, at least I have that...right?\n",
    "\n",
    "For what it's worth, I've also spoken to friends familiar with this hardware on feedback for this, what I've said above, and they've been stumped by the same things.  It seems that the Pi Zero W is meant for very small scale data analysis, despite being marketed as capable of machine learning.\n"
   ]
  },
  {
   "cell_type": "markdown",
   "metadata": {},
   "source": [
    "#### Conclusion:"
   ]
  },
  {
   "cell_type": "markdown",
   "metadata": {},
   "source": [
    "There's not much for me to conclude, here.  I wish I could elaborate on the theory of the PDE more, but I've not taken that course nor have I self-taught myself the necessary skills to firmly make any statements.  I also wish that I was able to explain my vectorized solution a bit further in detail, but I couldn't find many resources that gave a firm answer themselves.  \n",
    "\n",
    "Other than that, I'm disappointed that I wasn't able to succeed in hardware acceleration, especially since this apparently comes up again later, but I can't always get the answer I want.  Overall, a fair assignment with fair expectations.  After all, you did warn me that the Pi Zero W was going to be difficult!"
   ]
  },
  {
   "cell_type": "markdown",
   "metadata": {},
   "source": [
    "---"
   ]
  }
 ],
 "metadata": {
  "kernelspec": {
   "display_name": "Python 3",
   "language": "python",
   "name": "python3"
  },
  "language_info": {
   "codemirror_mode": {
    "name": "ipython",
    "version": 3
   },
   "file_extension": ".py",
   "mimetype": "text/x-python",
   "name": "python",
   "nbconvert_exporter": "python",
   "pygments_lexer": "ipython3",
   "version": "3.7.3"
  }
 },
 "nbformat": 4,
 "nbformat_minor": 4
}
